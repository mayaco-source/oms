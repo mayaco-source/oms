{
 "cells": [
  {
   "cell_type": "markdown",
   "id": "1bc6aae8-a9af-4eae-a049-41c5a80c9a35",
   "metadata": {},
   "source": [
    "## Organization Management System\n"
   ]
  },
  {
   "cell_type": "markdown",
   "id": "d0d9eb66-48ae-49b5-a93e-fe6170a1d85c",
   "metadata": {},
   "source": [
    "### Step 1: Data Setup (Staff Lists)"
   ]
  },
  {
   "cell_type": "code",
   "execution_count": 4,
   "id": "63869424-f662-4e44-8254-c8885752c6e0",
   "metadata": {},
   "outputs": [],
   "source": [
    "# Organization Management System with Brazilian Names\n",
    "\n",
    "hospital_staff = [\n",
    "    {\"name\": \"João Silva\", \"department\": \"Cardiology\"},\n",
    "    {\"name\": \"Maria Souza\", \"department\": \"Pediatrics\"},\n",
    "    {\"name\": \"Carlos Pereira\", \"department\": \"Neurology\"}\n",
    "]\n",
    "\n",
    "school_staff = [\n",
    "    {\"name\": \"Ana Costa\", \"department\": \"Mathematics\"},\n",
    "    {\"name\": \"Pedro Alves\", \"department\": \"Sciences\"},\n",
    "    {\"name\": \"Fernanda Lima\", \"department\": \"History\"}\n",
    "]\n",
    "\n",
    "company_staff = [\n",
    "    {\"name\": \"Lucas Oliveira\", \"department\": \"Human Resources\"},\n",
    "    {\"name\": \"Juliana Ferreira\", \"department\": \"Marketing\"},\n",
    "    {\"name\": \"Roberto Machado\", \"department\": \"Engineering\"}\n",
    "]\n",
    "\n",
    "# Dictionary mapping organizations to their respective staff lists\n",
    "organization_data = {\n",
    "    \"Hospital\": hospital_staff,\n",
    "    \"School\": school_staff,\n",
    "    \"Company\": company_staff\n",
    "}"
   ]
  },
  {
   "cell_type": "markdown",
   "id": "0c9107fc-ba35-4132-b830-4b7a6206120d",
   "metadata": {},
   "source": [
    "### Step 2: Display Available Information"
   ]
  },
  {
   "cell_type": "code",
   "execution_count": 7,
   "id": "ca7e4e7d-25b4-4aa8-87aa-a9873a9cce21",
   "metadata": {},
   "outputs": [],
   "source": [
    "def display_staff(organization):\n",
    "    \"\"\"Displays all the current staff members and their departments for the selected organization.\"\"\"\n",
    "    print(f\"\\nStaff in {organization}:\")\n",
    "    staff_list = organization_data[organization]  # Retrieve the staff list for the selected organization\n",
    "    \n",
    "    if staff_list:\n",
    "        for staff in staff_list:\n",
    "            print(f\"Name: {staff['name']}, Department: {staff['department']}\")\n",
    "    else:\n",
    "        print(\"No staff available.\")"
   ]
  },
  {
   "cell_type": "markdown",
   "id": "529faf8c-73cb-49d8-b4d8-e0d398a83dee",
   "metadata": {},
   "source": [
    "### Step 3: Modify Staff Department"
   ]
  },
  {
   "cell_type": "code",
   "execution_count": 10,
   "id": "0827a1c2-41dc-4058-970c-6639e5946da3",
   "metadata": {},
   "outputs": [],
   "source": [
    "def modify_staff_department(organization):\n",
    "    \"\"\"Allows the user to update the department of a specific staff member.\"\"\"\n",
    "    staff_list = organization_data[organization]\n",
    "    name_to_modify = input(\"Enter the staff member's name to modify: \").strip()\n",
    "\n",
    "    found = False\n",
    "    for staff in staff_list:\n",
    "        if staff[\"name\"].lower() == name_to_modify.lower():  # Case-insensitive name search\n",
    "            found = True\n",
    "            new_department = input(f\"Enter the new department for {staff['name']}: \").strip()\n",
    "            staff[\"department\"] = new_department\n",
    "            print(f\"{staff['name']}'s department updated to {new_department}.\")\n",
    "            break\n",
    "    \n",
    "    if not found:\n",
    "        print(f\"Staff member '{name_to_modify}' not found.\")"
   ]
  },
  {
   "cell_type": "markdown",
   "id": "4907a33d-3236-4ef3-a6eb-b60c608592f7",
   "metadata": {},
   "source": [
    "### Step 4: Search Staff by Name"
   ]
  },
  {
   "cell_type": "code",
   "execution_count": 13,
   "id": "1c9581fb-2945-4573-a505-eae400837a36",
   "metadata": {},
   "outputs": [],
   "source": [
    "def search_staff_by_name(organization):\n",
    "    \"\"\"Search for a staff member by name and display their details.\"\"\"\n",
    "    staff_list = organization_data[organization]\n",
    "    search_name = input(\"Enter the staff member's name to search: \").strip()\n",
    "\n",
    "    found = False\n",
    "    for staff in staff_list:\n",
    "        if staff[\"name\"].lower() == search_name.lower():  # Case-insensitive name search\n",
    "            found = True\n",
    "            print(f\"Staff found: Name: {staff['name']}, Department: {staff['department']}\")\n",
    "            break\n",
    "    \n",
    "    if not found:\n",
    "        print(f\"Staff member '{search_name}' not found.\")"
   ]
  },
  {
   "cell_type": "markdown",
   "id": "2b0ba0ca-74ab-444d-973b-222cf2cf8942",
   "metadata": {},
   "source": [
    "### Step 5: Main Menu Navigation"
   ]
  },
  {
   "cell_type": "code",
   "execution_count": 16,
   "id": "b97819cd-feaf-4da0-8f51-265552fefcf0",
   "metadata": {},
   "outputs": [],
   "source": [
    "def main_menu():\n",
    "    \"\"\"Main menu to navigate between different tasks and select an organization.\"\"\"\n",
    "    while True:\n",
    "        print(\"\\nWelcome to the Organization Management System\")\n",
    "        print(\"Choose a scenario to manage staff records:\")\n",
    "        print(\"1. Hospital\\n2. School\\n3. Company\\n4. Exit\")\n",
    "\n",
    "        scenario_choice = input(\"Enter your choice (1-4): \").strip()\n",
    "\n",
    "        if scenario_choice == '1':\n",
    "            manage_organization(\"Hospital\")\n",
    "        elif scenario_choice == '2':\n",
    "            manage_organization(\"School\")\n",
    "        elif scenario_choice == '3':\n",
    "            manage_organization(\"Company\")\n",
    "        elif scenario_choice == '4':\n",
    "            print(\"Exiting the program. Goodbye!\")\n",
    "            break  # Exit the loop and end the program\n",
    "        else:\n",
    "            print(\"Invalid choice. Please enter a valid option.\")"
   ]
  },
  {
   "cell_type": "markdown",
   "id": "56a380b9-b839-4c2e-ab16-fe8caa570f16",
   "metadata": {},
   "source": [
    "### Step 6: Organization Management Menu"
   ]
  },
  {
   "cell_type": "code",
   "execution_count": 19,
   "id": "01207693-7c3c-4cf2-b719-119b846fb7e9",
   "metadata": {},
   "outputs": [],
   "source": [
    "def manage_organization(organization):\n",
    "    \"\"\"Displays a menu to manage the selected organization (display, modify, search staff).\"\"\"\n",
    "    while True:\n",
    "        print(f\"\\nManaging {organization} Staff\")\n",
    "        print(\"1. Display Available Information\")\n",
    "        print(\"2. Modify Staff Department\")\n",
    "        print(\"3. Search Staff by Name\")\n",
    "        print(\"4. Return to Main Menu\")\n",
    "\n",
    "        task_choice = input(\"Enter your choice (1-4): \").strip()\n",
    "\n",
    "        if task_choice == '1':\n",
    "            display_staff(organization)\n",
    "        elif task_choice == '2':\n",
    "            modify_staff_department(organization)\n",
    "        elif task_choice == '3':\n",
    "            search_staff_by_name(organization)\n",
    "        elif task_choice == '4':\n",
    "            break  # Return to the main menu\n",
    "        else:\n",
    "            print(\"Invalid choice. Please try again.\")"
   ]
  },
  {
   "cell_type": "markdown",
   "id": "ed6d4324-b1a9-4e1f-a29e-20de0534cf8e",
   "metadata": {},
   "source": [
    "## Step 7: Start the Program"
   ]
  },
  {
   "cell_type": "code",
   "execution_count": null,
   "id": "ff206c61-ea5b-453c-9527-127a6da9f845",
   "metadata": {},
   "outputs": [
    {
     "name": "stdout",
     "output_type": "stream",
     "text": [
      "\n",
      "Welcome to the Organization Management System\n",
      "Choose a scenario to manage staff records:\n",
      "1. Hospital\n",
      "2. School\n",
      "3. Company\n",
      "4. Exit\n"
     ]
    },
    {
     "name": "stdin",
     "output_type": "stream",
     "text": [
      "Enter your choice (1-4):  2\n"
     ]
    },
    {
     "name": "stdout",
     "output_type": "stream",
     "text": [
      "\n",
      "Managing School Staff\n",
      "1. Display Available Information\n",
      "2. Modify Staff Department\n",
      "3. Search Staff by Name\n",
      "4. Return to Main Menu\n"
     ]
    },
    {
     "name": "stdin",
     "output_type": "stream",
     "text": [
      "Enter your choice (1-4):  3\n",
      "Enter the staff member's name to search:  2\n"
     ]
    },
    {
     "name": "stdout",
     "output_type": "stream",
     "text": [
      "Staff member '2' not found.\n",
      "\n",
      "Managing School Staff\n",
      "1. Display Available Information\n",
      "2. Modify Staff Department\n",
      "3. Search Staff by Name\n",
      "4. Return to Main Menu\n"
     ]
    }
   ],
   "source": [
    "if __name__ == \"__main__\":\n",
    "    main_menu()"
   ]
  },
  {
   "cell_type": "markdown",
   "id": "2ed69cee-a73d-4d12-b4bb-65c4ac24c167",
   "metadata": {},
   "source": [
    "\n",
    "### Documentation\n",
    "\n",
    "In this project, I developed a Python-based Organization Management System that allows users to manage staff records for different organizational scenarios: Hospital, School, and Company. The system enables the user to perform three main tasks:\n",
    "\t1.\tDisplay current staff members and their departments.\n",
    "\t2.\tModify a staff member’s department.\n",
    "\t3.\tSearch for a staff member by name to view their details.\n",
    "\n",
    "The program also includes a main menu for navigation, where the user can select tasks and return to the menu after completing each operation. The system handles invalid inputs gracefully and provides clear error messages when necessary.\n",
    "\n",
    "The goal was to create a functional, user-friendly, and modular program to demonstrate the ability to manage and modify staff data efficiently.\n",
    "\n",
    "Python Organization Management System Documentation\n",
    "\n",
    "1. Functionality:\n",
    "\t•\tThe program meets all requirements: displays staff information modifies departments, and searches staff by name for Hospital, School, and Company scenarios.\n",
    "\t•\tTasks are implemented correctly: display, modify, and search staff data, with appropriate prompts and error messages if staff are not found.\n",
    "\n",
    "2. Code Quality:\n",
    "\t•\tCode is modular and well-structured using functions for each task: display_staff(), modify_staff_department(), and search_staff_by_name().\n",
    "\t•\tEach function is named to indicate its purpose, ensuring readability and maintainability.\n",
    "\n",
    "3. Error Handling:\n",
    "\t•\tThe program handles invalid inputs gracefully:\n",
    "\t•\tIt prompts the user again if an invalid menu option is entered.\n",
    "\t•\tIf a staff member’s name isn’t found, an error message is shown.\n",
    "\n",
    "4. User Interface:\n",
    "\t•\tThe user interface is simple and intuitive, with clear prompts and well-organized options. The program returns to the main menu after each task, allowing easy navigation between operations.\n",
    "\n",
    "5. Comments and Documentation:\n",
    "\t•\tCode includes clear comments to explain the purpose of functions and key sections.\n",
    "\t•\tFunction documentation is concise and to the point, describing each function’s purpose and parameters.\n",
    "\n"
   ]
  },
  {
   "cell_type": "code",
   "execution_count": null,
   "id": "9d28c1df-fb2c-45ee-bb0e-1b6b20a5e11c",
   "metadata": {},
   "outputs": [],
   "source": []
  }
 ],
 "metadata": {
  "kernelspec": {
   "display_name": "Python 3 (ipykernel)",
   "language": "python",
   "name": "python3"
  },
  "language_info": {
   "codemirror_mode": {
    "name": "ipython",
    "version": 3
   },
   "file_extension": ".py",
   "mimetype": "text/x-python",
   "name": "python",
   "nbconvert_exporter": "python",
   "pygments_lexer": "ipython3",
   "version": "3.12.7"
  }
 },
 "nbformat": 4,
 "nbformat_minor": 5
}
